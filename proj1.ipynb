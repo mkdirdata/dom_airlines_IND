{
 "cells": [
  {
   "cell_type": "markdown",
   "metadata": {},
   "source": [
    "# **CIVIL AVIATION - DOMESTIC AIRLINES ANALYTICS - IND**"
   ]
  },
  {
   "cell_type": "markdown",
   "metadata": {},
   "source": [
    "**1. IMPORT LIBRARIES**"
   ]
  },
  {
   "cell_type": "code",
   "execution_count": 1,
   "metadata": {},
   "outputs": [],
   "source": [
    "import pandas as pd\n",
    "import numpy as np\n",
    "\n",
    "import matplotlib.pyplot as plt\n",
    "\n",
    "import h5py\n",
    "from datetime import datetime\n",
    "\n",
    "import requests as re\n",
    "import glob\n",
    "\n",
    "import warnings\n",
    "warnings.filterwarnings('ignore')"
   ]
  },
  {
   "cell_type": "markdown",
   "metadata": {},
   "source": [
    "**2. READ DATA**"
   ]
  },
  {
   "cell_type": "code",
   "execution_count": 2,
   "metadata": {},
   "outputs": [],
   "source": [
    "file = glob.glob(\"F:\\download\\civil_aviation_IND_2022\\*\")\n",
    "# file"
   ]
  },
  {
   "cell_type": "markdown",
   "metadata": {},
   "source": [
    "Each carrier-data file has 4 tables\n",
    "1. row# : 01 - 15, agg_line# : 16\n",
    "2. row# : 20 - 34, agg_line# : 35\n",
    "3. row# : 39 - 53, agg_line# : 54\n",
    "4. row# : 58 - 72, agg_line# : 73"
   ]
  },
  {
   "cell_type": "code",
   "execution_count": 3,
   "metadata": {},
   "outputs": [],
   "source": [
    "carrier_name = file[0].split('\\\\')[-1].split('.')[0]"
   ]
  },
  {
   "cell_type": "code",
   "execution_count": 4,
   "metadata": {},
   "outputs": [],
   "source": [
    "xl = pd.ExcelFile(file[0])"
   ]
  },
  {
   "cell_type": "code",
   "execution_count": 5,
   "metadata": {},
   "outputs": [],
   "source": [
    "tbl_name = xl.parse(0).columns[2].split('\\n ')[1][2:-1]"
   ]
  },
  {
   "cell_type": "code",
   "execution_count": 6,
   "metadata": {},
   "outputs": [],
   "source": [
    "df = xl.parse(0, skiprows=1, nrows=13)  "
   ]
  },
  {
   "cell_type": "markdown",
   "metadata": {},
   "source": [
    "**3. RENAME & MODIFY COLUMNS**"
   ]
  },
  {
   "cell_type": "code",
   "execution_count": null,
   "metadata": {},
   "outputs": [],
   "source": [
    "carrier_map = {\n",
    "    'Air Asia' : ['Air Asia']\n",
    "    , 'Air India Express' : ['air india express']\n",
    "    , 'Air India' : ['Air India']\n",
    "    , 'Air Taxi' : ['air taxi']\n",
    "    , 'Alliance Air' : ['alliance air']\n",
    "    , 'Blue Dart' : ['bluedart']\n",
    "    , 'FlyBig' : ['Flybig']\n",
    "    , 'Go Air' : ['go air']\n",
    "    , 'IndiGo' : ['indigo']\n",
    "    , 'Pawan Hans' : ['pawanhans']\n",
    "    , 'SpiceJet' : ['spicejet']\n",
    "    , 'Star Air' : ['star air']\n",
    "    , 'vistara' : ['vistara ']\n",
    "}"
   ]
  },
  {
   "cell_type": "code",
   "execution_count": 7,
   "metadata": {},
   "outputs": [],
   "source": [
    "col_names = {\n",
    "    df.columns[0] : 'month'\n",
    "    , df.columns[1] : 'dep(in_num)'\n",
    "    , df.columns[2] : 'hours(in_num)'\n",
    "    , df.columns[3] : 'km(in_thousand)'\n",
    "    , df.columns[4] : 'pax_carried(in_num)'\n",
    "    , df.columns[5] : 'pax_km_pfd(in_thousand)'\n",
    "    , df.columns[6] : 'avail_seat_km(in_thousand)'\n",
    "    , df.columns[7] : 'pax_load_factor(in_percentage)'\n",
    "    , df.columns[8] : 'freight(in_tonne)'\n",
    "    , df.columns[9] : 'mail(in_tonne)'\n",
    "    , df.columns[10] : 'total_cargo(in_tonne)'\n",
    "    , df.columns[11] : 'pax_tonne_km_pfd(in_tonne)'\n",
    "    , df.columns[12] : 'freight_tonne_km_pfd(in_tonne)'\n",
    "    , df.columns[13] : 'mail_tonne_km_pfd(in_tonne)'\n",
    "    , df.columns[14] : 'total_tonne_km_pfd(in_tonne)'\n",
    "    , df.columns[15] : 'avl_tonne_km_pfd(in_tonne)'\n",
    "    , df.columns[16] : 'weight_load_factor(in_percentage)'\n",
    "}"
   ]
  },
  {
   "cell_type": "code",
   "execution_count": 8,
   "metadata": {},
   "outputs": [],
   "source": [
    "df = df.rename(columns=col_names).drop(0)\n",
    "df['pax_load_factor(in_percentage)'] = df['pax_load_factor(in_percentage)'].apply(lambda x: 0 if x == ' ' else x)\n",
    "df['weight_load_factor(in_percentage)'] = df['weight_load_factor(in_percentage)'].apply(lambda x: 0 if x == ' ' else x)\n",
    "df.fillna(0, inplace=True)"
   ]
  },
  {
   "cell_type": "code",
   "execution_count": 9,
   "metadata": {},
   "outputs": [],
   "source": [
    "for col in df.columns:\n",
    "    if col == 'month':\n",
    "        df[col] = df[col].astype('category')\n",
    "        continue\n",
    "\n",
    "    df[col] = df[col].astype('float64')"
   ]
  },
  {
   "cell_type": "code",
   "execution_count": 10,
   "metadata": {},
   "outputs": [
    {
     "name": "stdout",
     "output_type": "stream",
     "text": [
      "<class 'pandas.core.frame.DataFrame'>\n",
      "RangeIndex: 12 entries, 1 to 12\n",
      "Data columns (total 17 columns):\n",
      " #   Column                             Non-Null Count  Dtype   \n",
      "---  ------                             --------------  -----   \n",
      " 0   month                              12 non-null     category\n",
      " 1   dep(in_num)                        12 non-null     float64 \n",
      " 2   hours(in_num)                      12 non-null     float64 \n",
      " 3   km(in_thousand)                    12 non-null     float64 \n",
      " 4   pax_carried(in_num)                12 non-null     float64 \n",
      " 5   pax_km_pfd(in_thousand)            12 non-null     float64 \n",
      " 6   avail_seat_km(in_thousand)         12 non-null     float64 \n",
      " 7   pax_load_factor(in_percentage)     12 non-null     float64 \n",
      " 8   freight(in_tonne)                  12 non-null     float64 \n",
      " 9   mail(in_tonne)                     12 non-null     float64 \n",
      " 10  total_cargo(in_tonne)              12 non-null     float64 \n",
      " 11  pax_tonne_km_pfd(in_tonne)         12 non-null     float64 \n",
      " 12  freight_tonne_km_pfd(in_tonne)     12 non-null     float64 \n",
      " 13  mail_tonne_km_pfd(in_tonne)        12 non-null     float64 \n",
      " 14  total_tonne_km_pfd(in_tonne)       12 non-null     float64 \n",
      " 15  avl_tonne_km_pfd(in_tonne)         12 non-null     float64 \n",
      " 16  weight_load_factor(in_percentage)  12 non-null     float64 \n",
      "dtypes: category(1), float64(16)\n",
      "memory usage: 2.0 KB\n"
     ]
    }
   ],
   "source": [
    "df.info()"
   ]
  },
  {
   "cell_type": "code",
   "execution_count": 11,
   "metadata": {},
   "outputs": [
    {
     "data": {
      "text/html": [
       "<div>\n",
       "<style scoped>\n",
       "    .dataframe tbody tr th:only-of-type {\n",
       "        vertical-align: middle;\n",
       "    }\n",
       "\n",
       "    .dataframe tbody tr th {\n",
       "        vertical-align: top;\n",
       "    }\n",
       "\n",
       "    .dataframe thead th {\n",
       "        text-align: right;\n",
       "    }\n",
       "</style>\n",
       "<table border=\"1\" class=\"dataframe\">\n",
       "  <thead>\n",
       "    <tr style=\"text-align: right;\">\n",
       "      <th></th>\n",
       "      <th>month</th>\n",
       "      <th>dep(in_num)</th>\n",
       "      <th>hours(in_num)</th>\n",
       "      <th>km(in_thousand)</th>\n",
       "      <th>pax_carried(in_num)</th>\n",
       "      <th>pax_km_pfd(in_thousand)</th>\n",
       "      <th>avail_seat_km(in_thousand)</th>\n",
       "      <th>pax_load_factor(in_percentage)</th>\n",
       "      <th>freight(in_tonne)</th>\n",
       "      <th>mail(in_tonne)</th>\n",
       "      <th>total_cargo(in_tonne)</th>\n",
       "      <th>pax_tonne_km_pfd(in_tonne)</th>\n",
       "      <th>freight_tonne_km_pfd(in_tonne)</th>\n",
       "      <th>mail_tonne_km_pfd(in_tonne)</th>\n",
       "      <th>total_tonne_km_pfd(in_tonne)</th>\n",
       "      <th>avl_tonne_km_pfd(in_tonne)</th>\n",
       "      <th>weight_load_factor(in_percentage)</th>\n",
       "    </tr>\n",
       "  </thead>\n",
       "  <tbody>\n",
       "    <tr>\n",
       "      <th>1</th>\n",
       "      <td>JAN</td>\n",
       "      <td>2851.0</td>\n",
       "      <td>5296.583333</td>\n",
       "      <td>2851.298</td>\n",
       "      <td>295094.0</td>\n",
       "      <td>313575.255</td>\n",
       "      <td>518466.894</td>\n",
       "      <td>60.481249</td>\n",
       "      <td>2071.9702</td>\n",
       "      <td>214.0072</td>\n",
       "      <td>2285.9774</td>\n",
       "      <td>16785.019293</td>\n",
       "      <td>4770.631445</td>\n",
       "      <td>416.514125</td>\n",
       "      <td>21972.164863</td>\n",
       "      <td>57025.96</td>\n",
       "      <td>38.530110</td>\n",
       "    </tr>\n",
       "    <tr>\n",
       "      <th>2</th>\n",
       "      <td>FEB</td>\n",
       "      <td>3030.0</td>\n",
       "      <td>5768.566667</td>\n",
       "      <td>3119.247</td>\n",
       "      <td>445563.0</td>\n",
       "      <td>471344.230</td>\n",
       "      <td>566535.828</td>\n",
       "      <td>83.197603</td>\n",
       "      <td>2389.5908</td>\n",
       "      <td>210.9555</td>\n",
       "      <td>2600.5463</td>\n",
       "      <td>35350.817250</td>\n",
       "      <td>5975.507497</td>\n",
       "      <td>438.426649</td>\n",
       "      <td>41764.751396</td>\n",
       "      <td>62384.94</td>\n",
       "      <td>66.946849</td>\n",
       "    </tr>\n",
       "    <tr>\n",
       "      <th>3</th>\n",
       "      <td>MAR</td>\n",
       "      <td>4863.0</td>\n",
       "      <td>9305.250000</td>\n",
       "      <td>5047.264</td>\n",
       "      <td>698450.0</td>\n",
       "      <td>743853.248</td>\n",
       "      <td>915358.998</td>\n",
       "      <td>81.263553</td>\n",
       "      <td>3344.4881</td>\n",
       "      <td>292.3645</td>\n",
       "      <td>3636.8526</td>\n",
       "      <td>55788.993600</td>\n",
       "      <td>7753.565295</td>\n",
       "      <td>565.549828</td>\n",
       "      <td>64108.108723</td>\n",
       "      <td>100945.28</td>\n",
       "      <td>63.507782</td>\n",
       "    </tr>\n",
       "    <tr>\n",
       "      <th>4</th>\n",
       "      <td>APR</td>\n",
       "      <td>4290.0</td>\n",
       "      <td>8069.950000</td>\n",
       "      <td>4363.575</td>\n",
       "      <td>591907.0</td>\n",
       "      <td>630660.732</td>\n",
       "      <td>791899.578</td>\n",
       "      <td>79.638978</td>\n",
       "      <td>2857.0750</td>\n",
       "      <td>287.6709</td>\n",
       "      <td>3144.7459</td>\n",
       "      <td>47299.554900</td>\n",
       "      <td>7035.615210</td>\n",
       "      <td>601.799593</td>\n",
       "      <td>54936.969703</td>\n",
       "      <td>87271.50</td>\n",
       "      <td>62.949496</td>\n",
       "    </tr>\n",
       "    <tr>\n",
       "      <th>5</th>\n",
       "      <td>MAY</td>\n",
       "      <td>4949.0</td>\n",
       "      <td>9372.250000</td>\n",
       "      <td>5078.682</td>\n",
       "      <td>686362.0</td>\n",
       "      <td>731036.837</td>\n",
       "      <td>920890.236</td>\n",
       "      <td>79.383710</td>\n",
       "      <td>3184.4486</td>\n",
       "      <td>304.7933</td>\n",
       "      <td>3489.2419</td>\n",
       "      <td>54827.762775</td>\n",
       "      <td>7821.043269</td>\n",
       "      <td>648.302544</td>\n",
       "      <td>63297.108588</td>\n",
       "      <td>101573.64</td>\n",
       "      <td>62.316472</td>\n",
       "    </tr>\n",
       "  </tbody>\n",
       "</table>\n",
       "</div>"
      ],
      "text/plain": [
       "  month  dep(in_num)  hours(in_num)  km(in_thousand)  pax_carried(in_num)  \\\n",
       "1   JAN       2851.0    5296.583333         2851.298             295094.0   \n",
       "2   FEB       3030.0    5768.566667         3119.247             445563.0   \n",
       "3   MAR       4863.0    9305.250000         5047.264             698450.0   \n",
       "4   APR       4290.0    8069.950000         4363.575             591907.0   \n",
       "5   MAY       4949.0    9372.250000         5078.682             686362.0   \n",
       "\n",
       "   pax_km_pfd(in_thousand)  avail_seat_km(in_thousand)  \\\n",
       "1               313575.255                  518466.894   \n",
       "2               471344.230                  566535.828   \n",
       "3               743853.248                  915358.998   \n",
       "4               630660.732                  791899.578   \n",
       "5               731036.837                  920890.236   \n",
       "\n",
       "   pax_load_factor(in_percentage)  freight(in_tonne)  mail(in_tonne)  \\\n",
       "1                       60.481249          2071.9702        214.0072   \n",
       "2                       83.197603          2389.5908        210.9555   \n",
       "3                       81.263553          3344.4881        292.3645   \n",
       "4                       79.638978          2857.0750        287.6709   \n",
       "5                       79.383710          3184.4486        304.7933   \n",
       "\n",
       "   total_cargo(in_tonne)  pax_tonne_km_pfd(in_tonne)  \\\n",
       "1              2285.9774                16785.019293   \n",
       "2              2600.5463                35350.817250   \n",
       "3              3636.8526                55788.993600   \n",
       "4              3144.7459                47299.554900   \n",
       "5              3489.2419                54827.762775   \n",
       "\n",
       "   freight_tonne_km_pfd(in_tonne)  mail_tonne_km_pfd(in_tonne)  \\\n",
       "1                     4770.631445                   416.514125   \n",
       "2                     5975.507497                   438.426649   \n",
       "3                     7753.565295                   565.549828   \n",
       "4                     7035.615210                   601.799593   \n",
       "5                     7821.043269                   648.302544   \n",
       "\n",
       "   total_tonne_km_pfd(in_tonne)  avl_tonne_km_pfd(in_tonne)  \\\n",
       "1                  21972.164863                    57025.96   \n",
       "2                  41764.751396                    62384.94   \n",
       "3                  64108.108723                   100945.28   \n",
       "4                  54936.969703                    87271.50   \n",
       "5                  63297.108588                   101573.64   \n",
       "\n",
       "   weight_load_factor(in_percentage)  \n",
       "1                          38.530110  \n",
       "2                          66.946849  \n",
       "3                          63.507782  \n",
       "4                          62.949496  \n",
       "5                          62.316472  "
      ]
     },
     "execution_count": 11,
     "metadata": {},
     "output_type": "execute_result"
    }
   ],
   "source": [
    "df.head()"
   ]
  },
  {
   "cell_type": "markdown",
   "metadata": {},
   "source": [
    "| column_name | definition |\n",
    "| --- | --- |\n",
    "| dep | Count of Departures. |\n",
    "| hours | Total hours flown. |\n",
    "| km | Total distance flown. |\n",
    "| pax_carried | Total number of passengers carried. |\n",
    "| pax_km_pfd | _Passenger kilometers performed_ - A passenger-kilometre is performed when a passenger is carried one kilometre. Passenger-kilometres equal the sum of the products obtained by multiplying the number of revenue passengers carried on each flight stage by the stage distance. The resultant figure is equal to the number of kilometres travelled by all passengers. |\n",
    "| avail_seat_km | _Available Seat Kilometers (ASK)_ - captures the total flight passenger capacity of an airline in kilometers. It is obtained by multiplying the total number of seats available for scheduled passengers and the total number of kilometers in which those seats were flown. <br> A seat-kilometer is available when a seat that is available for carrying a passenger is flown one kilometer. Seats that are not usable for various reasons are excluded. |\n",
    "| pax_load_factor | _Passenger Load Factor (PLF) or Load Factor (LF)_ - is an airline industry metric that measures how much of an airline’s passenger carrying capacity is used. Not to be confused with aeronautic load factor, PLF only measures capacity utilization. <br> $ \\frac{passenger-kms-performed}{available-seat-kms} $ |\n",
    "| freight | weight of cargo carried. |\n",
    "| mail | weight of mail carried. |\n",
    "| total_cargo | total weight of cargo and mail carried. |\n",
    "| pax_tonne_km_pfd | _Passenger Tonne Kilometers Performed_ - The result obtained by multiplying the passenger kilometres flown by the weight of each of the passengers including both free and excess baggage. <br> _Each air transport operator can use its own internal passenger weights or the standard 90kgs (baggage included)._ |"
   ]
  },
  {
   "cell_type": "code",
   "execution_count": 12,
   "metadata": {},
   "outputs": [
    {
     "data": {
      "image/png": "[encoded data removed]",
      "text/plain": [
       "<Figure size 640x480 with 2 Axes>"
      ]
     },
     "metadata": {},
     "output_type": "display_data"
    }
   ],
   "source": [
    "fig, ax = plt.subplots()\n",
    "\n",
    "twin1 = ax.twinx()\n",
    "# twin2 = ax.twinx()\n",
    "\n",
    "ax.set_ylim(0, max(df['avail_seat_km(in_thousand)'].head(6)))\n",
    "twin1.set_ylim(0, 100)\n",
    "\n",
    "ax.set_xlabel('MONTH')\n",
    "ax.set_ylabel(\"Count of departures\")\n",
    "twin1.set_ylabel(\"load_factor (%)\")\n",
    "\n",
    "p1 = ax.plot(df.month.head(6), df['pax_km_pfd(in_thousand)'].head(6), 'b-')\n",
    "p2 = twin1.plot(df.month.head(6), df['pax_load_factor(in_percentage)'].head(6), 'r-')\n",
    "\n",
    "plt.show()"
   ]
  },
  {
   "cell_type": "code",
   "execution_count": null,
   "metadata": {},
   "outputs": [],
   "source": []
  }
 ],
 "metadata": {
  "kernelspec": {
   "display_name": "Python 3.10.7 64-bit",
   "language": "python",
   "name": "python3"
  },
  "language_info": {
   "codemirror_mode": {
    "name": "ipython",
    "version": 3
   },
   "file_extension": ".py",
   "mimetype": "text/x-python",
   "name": "python",
   "nbconvert_exporter": "python",
   "pygments_lexer": "ipython3",
   "version": "3.10.7"
  },
  "orig_nbformat": 4,
  "vscode": {
   "interpreter": {
    "hash": "e98642d34a3c5253d5a34baa9721780d67767a635c5f33cf73c879e978058cd8"
   }
  }
 },
 "nbformat": 4,
 "nbformat_minor": 2
}
